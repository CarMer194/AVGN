{
 "cells": [
  {
   "cell_type": "markdown",
   "metadata": {},
   "source": [
    "### Threshold Noise from large WAVs\n",
    "- data are linked at https://figshare.com/articles/BirdsongRecognition/3470165\n",
    "- Part of the function of this notebook is to segment bouts of song from silence, when you have a microphone continuously recording from a bird\n",
    "- The script reads each wav file, finds periods of increased noise, and segments it out as a bout\n",
    "  - There is a also some basic filtering to ignore noise wavs in which birds are shuffling around, wing noises, etc.\n",
    "  - Params need to be uniquely set to your birds"
   ]
  },
  {
   "cell_type": "code",
   "execution_count": 1,
   "metadata": {
    "ExecuteTime": {
     "end_time": "2018-10-22T00:07:28.010165Z",
     "start_time": "2018-10-22T00:07:24.744897Z"
    }
   },
   "outputs": [],
   "source": [
    "import numpy as np\n",
    "import sys\n",
    "import os\n",
    "from tqdm import tqdm_notebook as tqdm\n",
    "from glob import glob\n",
    "import re \n",
    "from datetime import datetime, timedelta\n",
    "import pandas as pd \n",
    "import os\n",
    "from sklearn.externals.joblib import Parallel, delayed\n",
    "%matplotlib inline\n",
    "\n",
    "%load_ext autoreload\n",
    "%autoreload 2"
   ]
  },
  {
   "cell_type": "code",
   "execution_count": 2,
   "metadata": {
    "ExecuteTime": {
     "end_time": "2018-10-22T00:07:31.152007Z",
     "start_time": "2018-10-22T00:07:28.017525Z"
    }
   },
   "outputs": [],
   "source": [
    "# import local methods from the source code\n",
    "from avgn.segment_song.preprocessing import *\n",
    "import avgn.segment_song.preprocessing as pp"
   ]
  },
  {
   "cell_type": "code",
   "execution_count": 3,
   "metadata": {
    "ExecuteTime": {
     "end_time": "2018-10-22T00:07:31.235271Z",
     "start_time": "2018-10-22T00:07:31.162697Z"
    }
   },
   "outputs": [],
   "source": [
    "# Where to put the final HDF5 files\n",
    "#Its recommended to use absolute path in the output location\n",
    "output_location = '../data/BF_wavs/'"
   ]
  },
  {
   "cell_type": "markdown",
   "metadata": {},
   "source": [
    "### Find Each WAV, and the bird attached to the wav"
   ]
  },
  {
   "cell_type": "code",
   "execution_count": 4,
   "metadata": {
    "ExecuteTime": {
     "end_time": "2018-10-22T00:07:31.323962Z",
     "start_time": "2018-10-22T00:07:31.244359Z"
    }
   },
   "outputs": [],
   "source": [
    "#Add in the input_loc, the absolute path of the bird data.\n",
    "input_loc = '/mnt/cube/Datasets/BengaleseFinch/Koumura_Okanoya-paper_data/'"
   ]
  },
  {
   "cell_type": "code",
   "execution_count": 5,
   "metadata": {
    "ExecuteTime": {
     "end_time": "2018-10-22T00:07:31.399369Z",
     "start_time": "2018-10-22T00:07:31.329900Z"
    }
   },
   "outputs": [],
   "source": [
    "dsets = [(input_loc+'Bird*/Wave/*.wav', 'BF')]"
   ]
  },
  {
   "cell_type": "code",
   "execution_count": 6,
   "metadata": {
    "ExecuteTime": {
     "end_time": "2018-10-22T00:07:31.487368Z",
     "start_time": "2018-10-22T00:07:31.405576Z"
    }
   },
   "outputs": [
    {
     "data": {
      "text/plain": [
       "[('/mnt/cube/Datasets/BengaleseFinch/Koumura_Okanoya-paper_data/Bird*/Wave/*.wav',\n",
       "  'BF')]"
      ]
     },
     "execution_count": 6,
     "metadata": {},
     "output_type": "execute_result"
    }
   ],
   "source": [
    "dsets"
   ]
  },
  {
   "cell_type": "code",
   "execution_count": 7,
   "metadata": {
    "ExecuteTime": {
     "end_time": "2018-10-22T00:07:31.906054Z",
     "start_time": "2018-10-22T00:07:31.492569Z"
    }
   },
   "outputs": [
    {
     "data": {
      "application/vnd.jupyter.widget-view+json": {
       "model_id": "5ede06967b9e4dd9b561ca3396c9d3c8",
       "version_major": 2,
       "version_minor": 0
      },
      "text/plain": [
       "HBox(children=(IntProgress(value=0, max=1), HTML(value='')))"
      ]
     },
     "metadata": {},
     "output_type": "display_data"
    },
    {
     "name": "stdout",
     "output_type": "stream",
     "text": [
      "\n",
      "/mnt/cube/Datasets/BengaleseFinch/Koumura_Okanoya-paper_data/Bird4/Wave/412.wav 2965\n"
     ]
    }
   ],
   "source": [
    "wav_list = np.array([])\n",
    "dset_list = np.array([])\n",
    "for search_directory, dset in tqdm(dsets):\n",
    "    new_wavs = np.array(glob(search_directory))\n",
    "    dset_list = np.append(dset_list, [dset for i in range(len(new_wavs))])\n",
    "    wav_list = np.append(wav_list,new_wavs)\n",
    "print(wav_list[0], len(wav_list))"
   ]
  },
  {
   "cell_type": "code",
   "execution_count": 8,
   "metadata": {
    "ExecuteTime": {
     "end_time": "2018-10-22T00:07:31.991522Z",
     "start_time": "2018-10-22T00:07:31.914000Z"
    }
   },
   "outputs": [
    {
     "name": "stdout",
     "output_type": "stream",
     "text": [
      "['Bird0' 'Bird1' 'Bird10' 'Bird2' 'Bird3' 'Bird4' 'Bird5' 'Bird6' 'Bird7'\n",
      " 'Bird8' 'Bird9']\n"
     ]
    }
   ],
   "source": [
    "bird_names = [i.split('/')[6] for i in wav_list]\n",
    "print(np.unique(bird_names))"
   ]
  },
  {
   "cell_type": "markdown",
   "metadata": {},
   "source": [
    "#### Extract times for bird / create dataframe of wavs"
   ]
  },
  {
   "cell_type": "code",
   "execution_count": 9,
   "metadata": {
    "ExecuteTime": {
     "end_time": "2018-10-22T00:07:32.198888Z",
     "start_time": "2018-10-22T00:07:32.006657Z"
    }
   },
   "outputs": [],
   "source": [
    "import xml.etree.ElementTree"
   ]
  },
  {
   "cell_type": "code",
   "execution_count": 10,
   "metadata": {
    "ExecuteTime": {
     "end_time": "2018-10-22T00:07:32.281099Z",
     "start_time": "2018-10-22T00:07:32.205810Z"
    }
   },
   "outputs": [
    {
     "data": {
      "text/plain": [
       "['/mnt/cube/Datasets/BengaleseFinch/Koumura_Okanoya-paper_data/Bird4/Annotation.xml',\n",
       " '/mnt/cube/Datasets/BengaleseFinch/Koumura_Okanoya-paper_data/Bird3/Annotation.xml']"
      ]
     },
     "execution_count": 10,
     "metadata": {},
     "output_type": "execute_result"
    }
   ],
   "source": [
    "bird_xml_locs = glob(input_loc+'/*/Annotation.xml')\n",
    "bird_xml_locs[:2]"
   ]
  },
  {
   "cell_type": "markdown",
   "metadata": {},
   "source": [
    "#### this part requires some custom parsing of an XML file to get wav time info\n",
    "- as far as I can tell specific datetime information is not available in the XML"
   ]
  },
  {
   "cell_type": "code",
   "execution_count": 11,
   "metadata": {
    "ExecuteTime": {
     "start_time": "2018-10-22T00:07:23.917Z"
    }
   },
   "outputs": [
    {
     "data": {
      "application/vnd.jupyter.widget-view+json": {
       "model_id": "9fddf37170b840b88695bbf744d52028",
       "version_major": 2,
       "version_minor": 0
      },
      "text/plain": [
       "HBox(children=(IntProgress(value=0, max=11), HTML(value='')))"
      ]
     },
     "metadata": {},
     "output_type": "display_data"
    },
    {
     "data": {
      "application/vnd.jupyter.widget-view+json": {
       "model_id": "",
       "version_major": 2,
       "version_minor": 0
      },
      "text/plain": [
       "HBox(children=(IntProgress(value=0, max=1964), HTML(value='')))"
      ]
     },
     "metadata": {},
     "output_type": "display_data"
    },
    {
     "data": {
      "application/vnd.jupyter.widget-view+json": {
       "model_id": "",
       "version_major": 2,
       "version_minor": 0
      },
      "text/plain": [
       "HBox(children=(IntProgress(value=0, max=2110), HTML(value='')))"
      ]
     },
     "metadata": {},
     "output_type": "display_data"
    },
    {
     "data": {
      "application/vnd.jupyter.widget-view+json": {
       "model_id": "",
       "version_major": 2,
       "version_minor": 0
      },
      "text/plain": [
       "HBox(children=(IntProgress(value=0, max=1351), HTML(value='')))"
      ]
     },
     "metadata": {},
     "output_type": "display_data"
    },
    {
     "data": {
      "application/vnd.jupyter.widget-view+json": {
       "model_id": "",
       "version_major": 2,
       "version_minor": 0
      },
      "text/plain": [
       "HBox(children=(IntProgress(value=0, max=1486), HTML(value='')))"
      ]
     },
     "metadata": {},
     "output_type": "display_data"
    },
    {
     "data": {
      "application/vnd.jupyter.widget-view+json": {
       "model_id": "",
       "version_major": 2,
       "version_minor": 0
      },
      "text/plain": [
       "HBox(children=(IntProgress(value=0, max=412), HTML(value='')))"
      ]
     },
     "metadata": {},
     "output_type": "display_data"
    },
    {
     "data": {
      "application/vnd.jupyter.widget-view+json": {
       "model_id": "",
       "version_major": 2,
       "version_minor": 0
      },
      "text/plain": [
       "HBox(children=(IntProgress(value=0, max=572), HTML(value='')))"
      ]
     },
     "metadata": {},
     "output_type": "display_data"
    },
    {
     "data": {
      "application/vnd.jupyter.widget-view+json": {
       "model_id": "",
       "version_major": 2,
       "version_minor": 0
      },
      "text/plain": [
       "HBox(children=(IntProgress(value=0, max=419), HTML(value='')))"
      ]
     },
     "metadata": {},
     "output_type": "display_data"
    },
    {
     "data": {
      "application/vnd.jupyter.widget-view+json": {
       "model_id": "",
       "version_major": 2,
       "version_minor": 0
      },
      "text/plain": [
       "HBox(children=(IntProgress(value=0, max=1854), HTML(value='')))"
      ]
     },
     "metadata": {},
     "output_type": "display_data"
    },
    {
     "data": {
      "application/vnd.jupyter.widget-view+json": {
       "model_id": "",
       "version_major": 2,
       "version_minor": 0
      },
      "text/plain": [
       "HBox(children=(IntProgress(value=0, max=1495), HTML(value='')))"
      ]
     },
     "metadata": {},
     "output_type": "display_data"
    },
    {
     "data": {
      "application/vnd.jupyter.widget-view+json": {
       "model_id": "",
       "version_major": 2,
       "version_minor": 0
      },
      "text/plain": [
       "HBox(children=(IntProgress(value=0, max=2501), HTML(value='')))"
      ]
     },
     "metadata": {},
     "output_type": "display_data"
    },
    {
     "data": {
      "application/vnd.jupyter.widget-view+json": {
       "model_id": "",
       "version_major": 2,
       "version_minor": 0
      },
      "text/plain": [
       "HBox(children=(IntProgress(value=0, max=1238), HTML(value='')))"
      ]
     },
     "metadata": {},
     "output_type": "display_data"
    },
    {
     "name": "stdout",
     "output_type": "stream",
     "text": [
      "\n"
     ]
    }
   ],
   "source": [
    "song_df = pd.DataFrame(columns=['bird','WavLoc', 'WaveFileName','Position','Length', 'NumNote', 'NotePositions', 'NoteLengths', 'NoteLabels'])\n",
    "\n",
    "for bird_loc in tqdm(bird_xml_locs):\n",
    "    bird_xml = xml.etree.ElementTree.parse(bird_loc).getroot()\n",
    "    bird = bird_loc.split('/')[-2]\n",
    "    for element in tqdm(bird_xml.getchildren(), leave=False):\n",
    "        if element.tag == 'Sequence':\n",
    "            notePositions = []\n",
    "            noteLengths = []\n",
    "            noteLabels = []\n",
    "            for seq_element in element.getchildren():\n",
    "                if seq_element.tag == 'Position': position = seq_element.text\n",
    "                elif seq_element.tag == 'Length': length = seq_element.text\n",
    "                elif seq_element.tag == 'WaveFileName': WaveFileName = seq_element.text\n",
    "                elif seq_element.tag == 'NumNote': NumNote = seq_element.text\n",
    "                elif seq_element.tag == 'Note':\n",
    "                    for note_element in seq_element.getchildren():\n",
    "                        if note_element.tag == 'Label': noteLabels.append(note_element.text)\n",
    "                        elif note_element.tag == 'Position': notePositions.append(note_element.text)\n",
    "                        elif note_element.tag == 'Length': noteLengths.append(note_element.text)\n",
    "            song_df.loc[len(song_df)] = [bird, input_loc+bird+'/Wave/'+WaveFileName, WaveFileName, position, length, NumNote, notePositions, noteLengths, noteLabels]"
   ]
  },
  {
   "cell_type": "code",
   "execution_count": 12,
   "metadata": {
    "ExecuteTime": {
     "start_time": "2018-10-22T00:07:23.920Z"
    }
   },
   "outputs": [],
   "source": [
    "# we cant parse anything about datetime from these wavs so we just make something up\n",
    "wav_times = []\n",
    "wav_loc = wav_list[0]\n",
    "n_no_date = 0\n",
    "for wav_file in wav_list:\n",
    "        # default give up method\n",
    "        dt = datetime(1900, 1, 1, 0, 0) + timedelta(hours=n_no_date)\n",
    "        n_no_date+=1\n",
    "        wav_times.append(dt)    \n",
    "wav_times = np.array(wav_times)"
   ]
  },
  {
   "cell_type": "code",
   "execution_count": 13,
   "metadata": {
    "ExecuteTime": {
     "start_time": "2018-10-22T00:07:23.924Z"
    }
   },
   "outputs": [
    {
     "data": {
      "text/plain": [
       "array([datetime.datetime(1900, 1, 1, 0, 0),\n",
       "       datetime.datetime(1900, 1, 1, 1, 0),\n",
       "       datetime.datetime(1900, 1, 1, 2, 0)], dtype=object)"
      ]
     },
     "execution_count": 13,
     "metadata": {},
     "output_type": "execute_result"
    }
   ],
   "source": [
    "wav_times[:3]"
   ]
  },
  {
   "cell_type": "code",
   "execution_count": 14,
   "metadata": {
    "ExecuteTime": {
     "start_time": "2018-10-22T00:07:23.926Z"
    }
   },
   "outputs": [
    {
     "data": {
      "text/html": [
       "<div>\n",
       "<style scoped>\n",
       "    .dataframe tbody tr th:only-of-type {\n",
       "        vertical-align: middle;\n",
       "    }\n",
       "\n",
       "    .dataframe tbody tr th {\n",
       "        vertical-align: top;\n",
       "    }\n",
       "\n",
       "    .dataframe thead th {\n",
       "        text-align: right;\n",
       "    }\n",
       "</style>\n",
       "<table border=\"1\" class=\"dataframe\">\n",
       "  <thead>\n",
       "    <tr style=\"text-align: right;\">\n",
       "      <th></th>\n",
       "      <th>birdname</th>\n",
       "      <th>dset</th>\n",
       "      <th>filename</th>\n",
       "      <th>wav_time</th>\n",
       "    </tr>\n",
       "  </thead>\n",
       "  <tbody>\n",
       "    <tr>\n",
       "      <th>0</th>\n",
       "      <td>Bird4</td>\n",
       "      <td>BF</td>\n",
       "      <td>/mnt/cube/Datasets/BengaleseFinch/Koumura_Okan...</td>\n",
       "      <td>1900-01-01 00:00:00</td>\n",
       "    </tr>\n",
       "    <tr>\n",
       "      <th>1</th>\n",
       "      <td>Bird4</td>\n",
       "      <td>BF</td>\n",
       "      <td>/mnt/cube/Datasets/BengaleseFinch/Koumura_Okan...</td>\n",
       "      <td>1900-01-01 01:00:00</td>\n",
       "    </tr>\n",
       "    <tr>\n",
       "      <th>2</th>\n",
       "      <td>Bird4</td>\n",
       "      <td>BF</td>\n",
       "      <td>/mnt/cube/Datasets/BengaleseFinch/Koumura_Okan...</td>\n",
       "      <td>1900-01-01 02:00:00</td>\n",
       "    </tr>\n",
       "  </tbody>\n",
       "</table>\n",
       "</div>"
      ],
      "text/plain": [
       "  birdname dset                                           filename  \\\n",
       "0    Bird4   BF  /mnt/cube/Datasets/BengaleseFinch/Koumura_Okan...   \n",
       "1    Bird4   BF  /mnt/cube/Datasets/BengaleseFinch/Koumura_Okan...   \n",
       "2    Bird4   BF  /mnt/cube/Datasets/BengaleseFinch/Koumura_Okan...   \n",
       "\n",
       "             wav_time  \n",
       "0 1900-01-01 00:00:00  \n",
       "1 1900-01-01 01:00:00  \n",
       "2 1900-01-01 02:00:00  "
      ]
     },
     "execution_count": 14,
     "metadata": {},
     "output_type": "execute_result"
    }
   ],
   "source": [
    "# Make a pandas dataframe corresponding to the files and datetimes\n",
    "wav_df = pd.DataFrame.from_dict({'filename':wav_list,\n",
    "                                'wav_time': wav_times,\n",
    "                                'dset': dset_list,\n",
    "                                'birdname': bird_names})\n",
    "wav_df[:3]"
   ]
  },
  {
   "cell_type": "markdown",
   "metadata": {},
   "source": [
    "### Parameters for processing vocalizations\n",
    "- ***These will almost certainly need to be set based upon species and the quality of your vocalizations***"
   ]
  },
  {
   "cell_type": "code",
   "execution_count": 15,
   "metadata": {
    "ExecuteTime": {
     "start_time": "2018-10-22T00:07:23.929Z"
    }
   },
   "outputs": [],
   "source": [
    "param_dict = {}\n",
    "param_dict['BF'] = {\n",
    "    ### Parameters ###\n",
    "    'lowcut': 50, # Hz # Low cut for our butter bandpass filter\n",
    "    'highcut': 15000, # Hz # High cut for our butter bandpass filter\n",
    "\n",
    "    'rms_window':  .01, # seconds # the size of your window\n",
    "    'rms_stride': .01, # seconds # how big your step size should be for moving the filter\n",
    "    'noise_thresh': .01, # threshold percent of maximum noise to consider silence\n",
    "    'segment_padding': 4.0, # seconds to pad waveform extracted\n",
    "    'rms_padding': 1.0, #5.0, # seconds # how much to pad around vocalizations\n",
    "   \n",
    "    # filtering\n",
    "    'min_amp_val': 1000, # the minimum value of a wav's amplitude to be considered containing any sound\n",
    "    'min_segment_length_s': 10., # How long a bout has to be to count\n",
    "    'max_segment_length_s': 200.,  # If a bout is too long, dont count it\n",
    "    'min_silence_pct': 0.05,  # measure of noise in wav, by threshing the pct of time that the wav is silent\n",
    "\n",
    "    # FFT (we create a spectrogram here to filter out noise)\n",
    "    'num_freq':1024, # how many channels to use in a spectrogram \n",
    "    'sample_rate':44100, # what rate are your WAVs sampled at?\n",
    "    'preemphasis':0.97, \n",
    "    'ref_level_db':20, # reference db for computing spec\n",
    "    'frame_shift_ms':2, # step size for fft\n",
    "    'min_level_db': -50,# threshold for spectrograms (lower filters out more noise)\n",
    "    'max_power_f_min': 1000,# (HZ) If the maximum power of the spectral envelope is below this, call noise\n",
    "    'frame_shift_ms':40, # step size for fft\n",
    "    'frame_length_ms':40, # frame length for fft\n",
    "\n",
    "    # # Filter based upon power-frequency envelope\n",
    "    'vocal_freq_min' : 700,\n",
    "    'vocal_freq_max' : 15000\n",
    "    }"
   ]
  },
  {
   "cell_type": "code",
   "execution_count": 16,
   "metadata": {
    "ExecuteTime": {
     "start_time": "2018-10-22T00:07:23.933Z"
    }
   },
   "outputs": [
    {
     "name": "stdout",
     "output_type": "stream",
     "text": [
      "BF Bird0 135\n",
      "BF Bird1 315\n",
      "BF Bird10 94\n",
      "BF Bird2 339\n",
      "BF Bird3 402\n",
      "BF Bird4 441\n",
      "BF Bird5 335\n",
      "BF Bird6 235\n",
      "BF Bird7 310\n",
      "BF Bird8 142\n",
      "BF Bird9 217\n"
     ]
    }
   ],
   "source": [
    "# print the number of wav files found for each individual\n",
    "for (dset, bird), group in wav_df.groupby(('dset', 'birdname')):\n",
    "    print(dset, bird, len(group))"
   ]
  },
  {
   "cell_type": "markdown",
   "metadata": {},
   "source": [
    "#### Parameters for debugging / speed of preprocessing"
   ]
  },
  {
   "cell_type": "code",
   "execution_count": 17,
   "metadata": {
    "ExecuteTime": {
     "start_time": "2018-10-22T00:07:23.936Z"
    }
   },
   "outputs": [],
   "source": [
    "skip_created = True # whether to skip song that has already been processed\n",
    "parallel = False # whether to run this algorithm in parallel (across wav files)\n",
    "visualize = False # whether to output visualizations of spectrograms to the notebook screen - this is useful for setting parameters - you may also want to edit the code to visualized other aspects of the algorithm\n",
    "n_parallel = 10 # How many threads to run in parallel (if parallel == True)\n",
    "verbosity = 1 # how verbose to make the output of the parallelization (higher = more, 0 = none, >50 output is sent to std.out)\n",
    "verbose=False"
   ]
  },
  {
   "cell_type": "code",
   "execution_count": 18,
   "metadata": {
    "ExecuteTime": {
     "start_time": "2018-10-22T00:07:23.938Z"
    }
   },
   "outputs": [],
   "source": [
    "# Where to save output wavs\n",
    "save_to_folder = '../../../data/bf_wav/' \n",
    "save_spectrograms = False # whether or not to save spectrogram PNGs to the save_to_folder to visually inspect whether the song segmentation algorithm works"
   ]
  },
  {
   "cell_type": "code",
   "execution_count": 19,
   "metadata": {
    "ExecuteTime": {
     "start_time": "2018-10-22T00:07:23.942Z"
    }
   },
   "outputs": [],
   "source": [
    "#from soundsig.sound import BioSound \n",
    "#from soundsig.sound import WavFile"
   ]
  },
  {
   "cell_type": "code",
   "execution_count": null,
   "metadata": {},
   "outputs": [],
   "source": []
  },
  {
   "cell_type": "code",
   "execution_count": 20,
   "metadata": {
    "ExecuteTime": {
     "start_time": "2018-10-22T00:07:23.946Z"
    },
    "code_folding": [],
    "scrolled": true
   },
   "outputs": [
    {
     "name": "stdout",
     "output_type": "stream",
     "text": [
      "processing Bird0 to save at ../../../data/bf_wav/\n",
      "total wavs:  135\n"
     ]
    },
    {
     "data": {
      "application/vnd.jupyter.widget-view+json": {
       "model_id": "f10f7883843545d8adb2d8f8da836a45",
       "version_major": 2,
       "version_minor": 0
      },
      "text/plain": [
       "HBox(children=(IntProgress(value=0, max=135), HTML(value='')))"
      ]
     },
     "metadata": {},
     "output_type": "display_data"
    },
    {
     "name": "stdout",
     "output_type": "stream",
     "text": [
      "\n",
      "processing Bird1 to save at ../../../data/bf_wav/\n",
      "total wavs:  315\n"
     ]
    },
    {
     "data": {
      "application/vnd.jupyter.widget-view+json": {
       "model_id": "eea4c282f4f0430eaf9bc11e3615fa60",
       "version_major": 2,
       "version_minor": 0
      },
      "text/plain": [
       "HBox(children=(IntProgress(value=0, max=315), HTML(value='')))"
      ]
     },
     "metadata": {},
     "output_type": "display_data"
    },
    {
     "name": "stdout",
     "output_type": "stream",
     "text": [
      "\n",
      "processing Bird10 to save at ../../../data/bf_wav/\n",
      "total wavs:  94\n"
     ]
    },
    {
     "data": {
      "application/vnd.jupyter.widget-view+json": {
       "model_id": "972127fc507b46dba2c68d15d5b680be",
       "version_major": 2,
       "version_minor": 0
      },
      "text/plain": [
       "HBox(children=(IntProgress(value=0, max=94), HTML(value='')))"
      ]
     },
     "metadata": {},
     "output_type": "display_data"
    },
    {
     "name": "stdout",
     "output_type": "stream",
     "text": [
      "\n",
      "processing Bird2 to save at ../../../data/bf_wav/\n",
      "total wavs:  339\n"
     ]
    },
    {
     "data": {
      "application/vnd.jupyter.widget-view+json": {
       "model_id": "98c47162e60044c5920b74c15aeb5748",
       "version_major": 2,
       "version_minor": 0
      },
      "text/plain": [
       "HBox(children=(IntProgress(value=0, max=339), HTML(value='')))"
      ]
     },
     "metadata": {},
     "output_type": "display_data"
    },
    {
     "name": "stdout",
     "output_type": "stream",
     "text": [
      "\n",
      "processing Bird3 to save at ../../../data/bf_wav/\n",
      "total wavs:  402\n"
     ]
    },
    {
     "data": {
      "application/vnd.jupyter.widget-view+json": {
       "model_id": "670e75d0bcab4d0db3c054f7b7f80643",
       "version_major": 2,
       "version_minor": 0
      },
      "text/plain": [
       "HBox(children=(IntProgress(value=0, max=402), HTML(value='')))"
      ]
     },
     "metadata": {},
     "output_type": "display_data"
    },
    {
     "name": "stdout",
     "output_type": "stream",
     "text": [
      "\n",
      "processing Bird4 to save at ../../../data/bf_wav/\n",
      "total wavs:  441\n"
     ]
    },
    {
     "data": {
      "application/vnd.jupyter.widget-view+json": {
       "model_id": "07e7989c2f7943ba97f0b8fe3821bc6c",
       "version_major": 2,
       "version_minor": 0
      },
      "text/plain": [
       "HBox(children=(IntProgress(value=0, max=441), HTML(value='')))"
      ]
     },
     "metadata": {},
     "output_type": "display_data"
    },
    {
     "name": "stdout",
     "output_type": "stream",
     "text": [
      "\n",
      "processing Bird5 to save at ../../../data/bf_wav/\n",
      "total wavs:  335\n"
     ]
    },
    {
     "data": {
      "application/vnd.jupyter.widget-view+json": {
       "model_id": "576e5572574b42bcbcdf0a020554a0b7",
       "version_major": 2,
       "version_minor": 0
      },
      "text/plain": [
       "HBox(children=(IntProgress(value=0, max=335), HTML(value='')))"
      ]
     },
     "metadata": {},
     "output_type": "display_data"
    },
    {
     "name": "stdout",
     "output_type": "stream",
     "text": [
      "\n",
      "processing Bird6 to save at ../../../data/bf_wav/\n",
      "total wavs:  235\n"
     ]
    },
    {
     "data": {
      "application/vnd.jupyter.widget-view+json": {
       "model_id": "81b7ebe1855047e6829b54ad0f0c565d",
       "version_major": 2,
       "version_minor": 0
      },
      "text/plain": [
       "HBox(children=(IntProgress(value=0, max=235), HTML(value='')))"
      ]
     },
     "metadata": {},
     "output_type": "display_data"
    },
    {
     "name": "stdout",
     "output_type": "stream",
     "text": [
      "\n",
      "processing Bird7 to save at ../../../data/bf_wav/\n",
      "total wavs:  310\n"
     ]
    },
    {
     "data": {
      "application/vnd.jupyter.widget-view+json": {
       "model_id": "e0f012c5cd3e434d8c9ebd2098080fd4",
       "version_major": 2,
       "version_minor": 0
      },
      "text/plain": [
       "HBox(children=(IntProgress(value=0, max=310), HTML(value='')))"
      ]
     },
     "metadata": {},
     "output_type": "display_data"
    },
    {
     "name": "stdout",
     "output_type": "stream",
     "text": [
      "\n",
      "processing Bird8 to save at ../../../data/bf_wav/\n",
      "total wavs:  142\n"
     ]
    },
    {
     "data": {
      "application/vnd.jupyter.widget-view+json": {
       "model_id": "1ec06019896d410e912d47af4da376fa",
       "version_major": 2,
       "version_minor": 0
      },
      "text/plain": [
       "HBox(children=(IntProgress(value=0, max=142), HTML(value='')))"
      ]
     },
     "metadata": {},
     "output_type": "display_data"
    },
    {
     "name": "stdout",
     "output_type": "stream",
     "text": [
      "\n",
      "processing Bird9 to save at ../../../data/bf_wav/\n",
      "total wavs:  217\n"
     ]
    },
    {
     "data": {
      "application/vnd.jupyter.widget-view+json": {
       "model_id": "8bcc043965c8450f8186aaa95fa75ba0",
       "version_major": 2,
       "version_minor": 0
      },
      "text/plain": [
       "HBox(children=(IntProgress(value=0, max=217), HTML(value='')))"
      ]
     },
     "metadata": {},
     "output_type": "display_data"
    },
    {
     "name": "stdout",
     "output_type": "stream",
     "text": [
      "\n"
     ]
    }
   ],
   "source": [
    "# loop through all wavs, \n",
    "try:\n",
    "    key_list = ('wav_list', 'time_index', 'wav_file', 'wav_time', 'rate')\n",
    "    for (dset, bird), group in wav_df.groupby(('dset', 'birdname')):   \n",
    "\n",
    "        print('processing %s to save at %s' % (bird, save_to_folder))\n",
    "        bird_data = {key : [] for key in key_list}\n",
    "\n",
    "        print('total wavs: ', len(group)) \n",
    "\n",
    "        # Create a spot to save the data\n",
    "        bird_folder = save_to_folder+bird+'/'\n",
    "        if not os.path.exists(bird_folder+'wavs/'):\n",
    "            os.makedirs(bird_folder+'wavs/') \n",
    "        if not os.path.exists(bird_folder+'csv/'):\n",
    "            os.makedirs(bird_folder+'csv/') \n",
    "\n",
    "        #print(asdfads)\n",
    "        if parallel:\n",
    "            with Parallel(n_jobs=n_parallel, verbose=verbosity) as parallel:\n",
    "                parallel(delayed(pp.process_bird_wav)(bird, filename, wav_time, param_dict[dset],save_to_folder,\n",
    "                                                      visualize= visualize, skip_created= skip_created,\n",
    "                                                      save_spectrograms= save_spectrograms, verbose=verbose) \n",
    "                                                      for idx, gbird, gdset, filename, wav_time in tqdm(group.itertuples(),total=len(group)))\n",
    "        else:\n",
    "            for idx, gbird, gdset, filename, wav_time in tqdm(group.itertuples(), total=len(group)):\n",
    "                process_bird_wav(bird, filename, wav_time, param_dict[dset],save_to_folder, visualize=visualize,\n",
    "                                 skip_created=skip_created, save_spectrograms= save_spectrograms, verbose=verbose) \n",
    "except KeyboardInterrupt:\n",
    "    print('interrrupted')"
   ]
  },
  {
   "cell_type": "code",
   "execution_count": null,
   "metadata": {},
   "outputs": [],
   "source": []
  }
 ],
 "metadata": {
  "kernelspec": {
   "display_name": "Python 3",
   "language": "python",
   "name": "python3"
  },
  "language_info": {
   "codemirror_mode": {
    "name": "ipython",
    "version": 3
   },
   "file_extension": ".py",
   "mimetype": "text/x-python",
   "name": "python",
   "nbconvert_exporter": "python",
   "pygments_lexer": "ipython3",
   "version": "3.6.5"
  },
  "toc": {
   "base_numbering": 1,
   "nav_menu": {},
   "number_sections": true,
   "sideBar": true,
   "skip_h1_title": false,
   "title_cell": "Table of Contents",
   "title_sidebar": "Contents",
   "toc_cell": false,
   "toc_position": {},
   "toc_section_display": true,
   "toc_window_display": false
  }
 },
 "nbformat": 4,
 "nbformat_minor": 2
}
